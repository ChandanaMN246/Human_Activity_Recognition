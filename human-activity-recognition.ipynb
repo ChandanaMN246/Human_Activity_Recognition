{
 "cells": [
  {
   "cell_type": "code",
   "execution_count": 1,
   "id": "ceed1efb",
   "metadata": {
    "execution": {
     "iopub.execute_input": "2022-10-20T12:05:37.169738Z",
     "iopub.status.busy": "2022-10-20T12:05:37.169195Z",
     "iopub.status.idle": "2022-10-20T12:05:37.179434Z",
     "shell.execute_reply": "2022-10-20T12:05:37.178471Z"
    },
    "papermill": {
     "duration": 0.020648,
     "end_time": "2022-10-20T12:05:37.181893",
     "exception": false,
     "start_time": "2022-10-20T12:05:37.161245",
     "status": "completed"
    },
    "tags": []
   },
   "outputs": [],
   "source": [
    "import pandas as pd"
   ]
  },
  {
   "cell_type": "code",
   "execution_count": null,
   "id": "32c8d79c",
   "metadata": {},
   "outputs": [],
   "source": [
    "train_data_path = 'train.csv'\n",
    "test_data_path = 'test.csv'"
   ]
  },
  {
   "cell_type": "code",
   "execution_count": 2,
   "id": "6028a9ea",
   "metadata": {
    "execution": {
     "iopub.execute_input": "2022-10-20T12:05:37.205457Z",
     "iopub.status.busy": "2022-10-20T12:05:37.204620Z",
     "iopub.status.idle": "2022-10-20T12:05:39.409130Z",
     "shell.execute_reply": "2022-10-20T12:05:39.407764Z"
    },
    "papermill": {
     "duration": 2.215707,
     "end_time": "2022-10-20T12:05:39.413272",
     "exception": false,
     "start_time": "2022-10-20T12:05:37.197565",
     "status": "completed"
    },
    "tags": []
   },
   "outputs": [
    {
     "data": {
      "text/html": [
       "<div>\n",
       "<style scoped>\n",
       "    .dataframe tbody tr th:only-of-type {\n",
       "        vertical-align: middle;\n",
       "    }\n",
       "\n",
       "    .dataframe tbody tr th {\n",
       "        vertical-align: top;\n",
       "    }\n",
       "\n",
       "    .dataframe thead th {\n",
       "        text-align: right;\n",
       "    }\n",
       "</style>\n",
       "<table border=\"1\" class=\"dataframe\">\n",
       "  <thead>\n",
       "    <tr style=\"text-align: right;\">\n",
       "      <th></th>\n",
       "      <th>tBodyAcc-mean()-X</th>\n",
       "      <th>tBodyAcc-mean()-Y</th>\n",
       "      <th>tBodyAcc-mean()-Z</th>\n",
       "      <th>tBodyAcc-std()-X</th>\n",
       "      <th>tBodyAcc-std()-Y</th>\n",
       "      <th>tBodyAcc-std()-Z</th>\n",
       "      <th>tBodyAcc-mad()-X</th>\n",
       "      <th>tBodyAcc-mad()-Y</th>\n",
       "      <th>tBodyAcc-mad()-Z</th>\n",
       "      <th>tBodyAcc-max()-X</th>\n",
       "      <th>...</th>\n",
       "      <th>fBodyBodyGyroJerkMag-kurtosis()</th>\n",
       "      <th>angle(tBodyAccMean,gravity)</th>\n",
       "      <th>angle(tBodyAccJerkMean),gravityMean)</th>\n",
       "      <th>angle(tBodyGyroMean,gravityMean)</th>\n",
       "      <th>angle(tBodyGyroJerkMean,gravityMean)</th>\n",
       "      <th>angle(X,gravityMean)</th>\n",
       "      <th>angle(Y,gravityMean)</th>\n",
       "      <th>angle(Z,gravityMean)</th>\n",
       "      <th>subject</th>\n",
       "      <th>Activity</th>\n",
       "    </tr>\n",
       "  </thead>\n",
       "  <tbody>\n",
       "    <tr>\n",
       "      <th>0</th>\n",
       "      <td>0.288585</td>\n",
       "      <td>-0.020294</td>\n",
       "      <td>-0.132905</td>\n",
       "      <td>-0.995279</td>\n",
       "      <td>-0.983111</td>\n",
       "      <td>-0.913526</td>\n",
       "      <td>-0.995112</td>\n",
       "      <td>-0.983185</td>\n",
       "      <td>-0.923527</td>\n",
       "      <td>-0.934724</td>\n",
       "      <td>...</td>\n",
       "      <td>-0.710304</td>\n",
       "      <td>-0.112754</td>\n",
       "      <td>0.030400</td>\n",
       "      <td>-0.464761</td>\n",
       "      <td>-0.018446</td>\n",
       "      <td>-0.841247</td>\n",
       "      <td>0.179941</td>\n",
       "      <td>-0.058627</td>\n",
       "      <td>1</td>\n",
       "      <td>STANDING</td>\n",
       "    </tr>\n",
       "    <tr>\n",
       "      <th>1</th>\n",
       "      <td>0.278419</td>\n",
       "      <td>-0.016411</td>\n",
       "      <td>-0.123520</td>\n",
       "      <td>-0.998245</td>\n",
       "      <td>-0.975300</td>\n",
       "      <td>-0.960322</td>\n",
       "      <td>-0.998807</td>\n",
       "      <td>-0.974914</td>\n",
       "      <td>-0.957686</td>\n",
       "      <td>-0.943068</td>\n",
       "      <td>...</td>\n",
       "      <td>-0.861499</td>\n",
       "      <td>0.053477</td>\n",
       "      <td>-0.007435</td>\n",
       "      <td>-0.732626</td>\n",
       "      <td>0.703511</td>\n",
       "      <td>-0.844788</td>\n",
       "      <td>0.180289</td>\n",
       "      <td>-0.054317</td>\n",
       "      <td>1</td>\n",
       "      <td>STANDING</td>\n",
       "    </tr>\n",
       "    <tr>\n",
       "      <th>2</th>\n",
       "      <td>0.279653</td>\n",
       "      <td>-0.019467</td>\n",
       "      <td>-0.113462</td>\n",
       "      <td>-0.995380</td>\n",
       "      <td>-0.967187</td>\n",
       "      <td>-0.978944</td>\n",
       "      <td>-0.996520</td>\n",
       "      <td>-0.963668</td>\n",
       "      <td>-0.977469</td>\n",
       "      <td>-0.938692</td>\n",
       "      <td>...</td>\n",
       "      <td>-0.760104</td>\n",
       "      <td>-0.118559</td>\n",
       "      <td>0.177899</td>\n",
       "      <td>0.100699</td>\n",
       "      <td>0.808529</td>\n",
       "      <td>-0.848933</td>\n",
       "      <td>0.180637</td>\n",
       "      <td>-0.049118</td>\n",
       "      <td>1</td>\n",
       "      <td>STANDING</td>\n",
       "    </tr>\n",
       "    <tr>\n",
       "      <th>3</th>\n",
       "      <td>0.279174</td>\n",
       "      <td>-0.026201</td>\n",
       "      <td>-0.123283</td>\n",
       "      <td>-0.996091</td>\n",
       "      <td>-0.983403</td>\n",
       "      <td>-0.990675</td>\n",
       "      <td>-0.997099</td>\n",
       "      <td>-0.982750</td>\n",
       "      <td>-0.989302</td>\n",
       "      <td>-0.938692</td>\n",
       "      <td>...</td>\n",
       "      <td>-0.482845</td>\n",
       "      <td>-0.036788</td>\n",
       "      <td>-0.012892</td>\n",
       "      <td>0.640011</td>\n",
       "      <td>-0.485366</td>\n",
       "      <td>-0.848649</td>\n",
       "      <td>0.181935</td>\n",
       "      <td>-0.047663</td>\n",
       "      <td>1</td>\n",
       "      <td>STANDING</td>\n",
       "    </tr>\n",
       "    <tr>\n",
       "      <th>4</th>\n",
       "      <td>0.276629</td>\n",
       "      <td>-0.016570</td>\n",
       "      <td>-0.115362</td>\n",
       "      <td>-0.998139</td>\n",
       "      <td>-0.980817</td>\n",
       "      <td>-0.990482</td>\n",
       "      <td>-0.998321</td>\n",
       "      <td>-0.979672</td>\n",
       "      <td>-0.990441</td>\n",
       "      <td>-0.942469</td>\n",
       "      <td>...</td>\n",
       "      <td>-0.699205</td>\n",
       "      <td>0.123320</td>\n",
       "      <td>0.122542</td>\n",
       "      <td>0.693578</td>\n",
       "      <td>-0.615971</td>\n",
       "      <td>-0.847865</td>\n",
       "      <td>0.185151</td>\n",
       "      <td>-0.043892</td>\n",
       "      <td>1</td>\n",
       "      <td>STANDING</td>\n",
       "    </tr>\n",
       "  </tbody>\n",
       "</table>\n",
       "<p>5 rows × 563 columns</p>\n",
       "</div>"
      ],
      "text/plain": [
       "   tBodyAcc-mean()-X  tBodyAcc-mean()-Y  tBodyAcc-mean()-Z  tBodyAcc-std()-X  \\\n",
       "0           0.288585          -0.020294          -0.132905         -0.995279   \n",
       "1           0.278419          -0.016411          -0.123520         -0.998245   \n",
       "2           0.279653          -0.019467          -0.113462         -0.995380   \n",
       "3           0.279174          -0.026201          -0.123283         -0.996091   \n",
       "4           0.276629          -0.016570          -0.115362         -0.998139   \n",
       "\n",
       "   tBodyAcc-std()-Y  tBodyAcc-std()-Z  tBodyAcc-mad()-X  tBodyAcc-mad()-Y  \\\n",
       "0         -0.983111         -0.913526         -0.995112         -0.983185   \n",
       "1         -0.975300         -0.960322         -0.998807         -0.974914   \n",
       "2         -0.967187         -0.978944         -0.996520         -0.963668   \n",
       "3         -0.983403         -0.990675         -0.997099         -0.982750   \n",
       "4         -0.980817         -0.990482         -0.998321         -0.979672   \n",
       "\n",
       "   tBodyAcc-mad()-Z  tBodyAcc-max()-X  ...  fBodyBodyGyroJerkMag-kurtosis()  \\\n",
       "0         -0.923527         -0.934724  ...                        -0.710304   \n",
       "1         -0.957686         -0.943068  ...                        -0.861499   \n",
       "2         -0.977469         -0.938692  ...                        -0.760104   \n",
       "3         -0.989302         -0.938692  ...                        -0.482845   \n",
       "4         -0.990441         -0.942469  ...                        -0.699205   \n",
       "\n",
       "   angle(tBodyAccMean,gravity)  angle(tBodyAccJerkMean),gravityMean)  \\\n",
       "0                    -0.112754                              0.030400   \n",
       "1                     0.053477                             -0.007435   \n",
       "2                    -0.118559                              0.177899   \n",
       "3                    -0.036788                             -0.012892   \n",
       "4                     0.123320                              0.122542   \n",
       "\n",
       "   angle(tBodyGyroMean,gravityMean)  angle(tBodyGyroJerkMean,gravityMean)  \\\n",
       "0                         -0.464761                             -0.018446   \n",
       "1                         -0.732626                              0.703511   \n",
       "2                          0.100699                              0.808529   \n",
       "3                          0.640011                             -0.485366   \n",
       "4                          0.693578                             -0.615971   \n",
       "\n",
       "   angle(X,gravityMean)  angle(Y,gravityMean)  angle(Z,gravityMean)  subject  \\\n",
       "0             -0.841247              0.179941             -0.058627        1   \n",
       "1             -0.844788              0.180289             -0.054317        1   \n",
       "2             -0.848933              0.180637             -0.049118        1   \n",
       "3             -0.848649              0.181935             -0.047663        1   \n",
       "4             -0.847865              0.185151             -0.043892        1   \n",
       "\n",
       "   Activity  \n",
       "0  STANDING  \n",
       "1  STANDING  \n",
       "2  STANDING  \n",
       "3  STANDING  \n",
       "4  STANDING  \n",
       "\n",
       "[5 rows x 563 columns]"
      ]
     },
     "execution_count": 2,
     "metadata": {},
     "output_type": "execute_result"
    }
   ],
   "source": [
    "train_df = pd.read_csv(train_data_path)\n",
    "test_df = pd.read_csv(test_data_path)\n",
    "train_df.head()"
   ]
  },
  {
   "cell_type": "code",
   "execution_count": 3,
   "id": "6917d499",
   "metadata": {
    "execution": {
     "iopub.execute_input": "2022-10-20T12:05:39.427635Z",
     "iopub.status.busy": "2022-10-20T12:05:39.427133Z",
     "iopub.status.idle": "2022-10-20T12:05:40.882472Z",
     "shell.execute_reply": "2022-10-20T12:05:40.881337Z"
    },
    "papermill": {
     "duration": 1.465339,
     "end_time": "2022-10-20T12:05:40.884877",
     "exception": false,
     "start_time": "2022-10-20T12:05:39.419538",
     "status": "completed"
    },
    "tags": []
   },
   "outputs": [
    {
     "data": {
      "text/html": [
       "<div>\n",
       "<style scoped>\n",
       "    .dataframe tbody tr th:only-of-type {\n",
       "        vertical-align: middle;\n",
       "    }\n",
       "\n",
       "    .dataframe tbody tr th {\n",
       "        vertical-align: top;\n",
       "    }\n",
       "\n",
       "    .dataframe thead th {\n",
       "        text-align: right;\n",
       "    }\n",
       "</style>\n",
       "<table border=\"1\" class=\"dataframe\">\n",
       "  <thead>\n",
       "    <tr style=\"text-align: right;\">\n",
       "      <th></th>\n",
       "      <th>tBodyAcc-mean()-X</th>\n",
       "      <th>tBodyAcc-mean()-Y</th>\n",
       "      <th>tBodyAcc-mean()-Z</th>\n",
       "      <th>tBodyAcc-std()-X</th>\n",
       "      <th>tBodyAcc-std()-Y</th>\n",
       "      <th>tBodyAcc-std()-Z</th>\n",
       "      <th>tBodyAcc-mad()-X</th>\n",
       "      <th>tBodyAcc-mad()-Y</th>\n",
       "      <th>tBodyAcc-mad()-Z</th>\n",
       "      <th>tBodyAcc-max()-X</th>\n",
       "      <th>...</th>\n",
       "      <th>fBodyBodyGyroJerkMag-skewness()</th>\n",
       "      <th>fBodyBodyGyroJerkMag-kurtosis()</th>\n",
       "      <th>angle(tBodyAccMean,gravity)</th>\n",
       "      <th>angle(tBodyAccJerkMean),gravityMean)</th>\n",
       "      <th>angle(tBodyGyroMean,gravityMean)</th>\n",
       "      <th>angle(tBodyGyroJerkMean,gravityMean)</th>\n",
       "      <th>angle(X,gravityMean)</th>\n",
       "      <th>angle(Y,gravityMean)</th>\n",
       "      <th>angle(Z,gravityMean)</th>\n",
       "      <th>subject</th>\n",
       "    </tr>\n",
       "  </thead>\n",
       "  <tbody>\n",
       "    <tr>\n",
       "      <th>count</th>\n",
       "      <td>7352.000000</td>\n",
       "      <td>7352.000000</td>\n",
       "      <td>7352.000000</td>\n",
       "      <td>7352.000000</td>\n",
       "      <td>7352.000000</td>\n",
       "      <td>7352.000000</td>\n",
       "      <td>7352.000000</td>\n",
       "      <td>7352.000000</td>\n",
       "      <td>7352.000000</td>\n",
       "      <td>7352.000000</td>\n",
       "      <td>...</td>\n",
       "      <td>7352.000000</td>\n",
       "      <td>7352.000000</td>\n",
       "      <td>7352.000000</td>\n",
       "      <td>7352.000000</td>\n",
       "      <td>7352.000000</td>\n",
       "      <td>7352.000000</td>\n",
       "      <td>7352.000000</td>\n",
       "      <td>7352.000000</td>\n",
       "      <td>7352.000000</td>\n",
       "      <td>7352.000000</td>\n",
       "    </tr>\n",
       "    <tr>\n",
       "      <th>mean</th>\n",
       "      <td>0.274488</td>\n",
       "      <td>-0.017695</td>\n",
       "      <td>-0.109141</td>\n",
       "      <td>-0.605438</td>\n",
       "      <td>-0.510938</td>\n",
       "      <td>-0.604754</td>\n",
       "      <td>-0.630512</td>\n",
       "      <td>-0.526907</td>\n",
       "      <td>-0.606150</td>\n",
       "      <td>-0.468604</td>\n",
       "      <td>...</td>\n",
       "      <td>-0.307009</td>\n",
       "      <td>-0.625294</td>\n",
       "      <td>0.008684</td>\n",
       "      <td>0.002186</td>\n",
       "      <td>0.008726</td>\n",
       "      <td>-0.005981</td>\n",
       "      <td>-0.489547</td>\n",
       "      <td>0.058593</td>\n",
       "      <td>-0.056515</td>\n",
       "      <td>17.413085</td>\n",
       "    </tr>\n",
       "    <tr>\n",
       "      <th>std</th>\n",
       "      <td>0.070261</td>\n",
       "      <td>0.040811</td>\n",
       "      <td>0.056635</td>\n",
       "      <td>0.448734</td>\n",
       "      <td>0.502645</td>\n",
       "      <td>0.418687</td>\n",
       "      <td>0.424073</td>\n",
       "      <td>0.485942</td>\n",
       "      <td>0.414122</td>\n",
       "      <td>0.544547</td>\n",
       "      <td>...</td>\n",
       "      <td>0.321011</td>\n",
       "      <td>0.307584</td>\n",
       "      <td>0.336787</td>\n",
       "      <td>0.448306</td>\n",
       "      <td>0.608303</td>\n",
       "      <td>0.477975</td>\n",
       "      <td>0.511807</td>\n",
       "      <td>0.297480</td>\n",
       "      <td>0.279122</td>\n",
       "      <td>8.975143</td>\n",
       "    </tr>\n",
       "    <tr>\n",
       "      <th>min</th>\n",
       "      <td>-1.000000</td>\n",
       "      <td>-1.000000</td>\n",
       "      <td>-1.000000</td>\n",
       "      <td>-1.000000</td>\n",
       "      <td>-0.999873</td>\n",
       "      <td>-1.000000</td>\n",
       "      <td>-1.000000</td>\n",
       "      <td>-1.000000</td>\n",
       "      <td>-1.000000</td>\n",
       "      <td>-1.000000</td>\n",
       "      <td>...</td>\n",
       "      <td>-0.995357</td>\n",
       "      <td>-0.999765</td>\n",
       "      <td>-0.976580</td>\n",
       "      <td>-1.000000</td>\n",
       "      <td>-1.000000</td>\n",
       "      <td>-1.000000</td>\n",
       "      <td>-1.000000</td>\n",
       "      <td>-1.000000</td>\n",
       "      <td>-1.000000</td>\n",
       "      <td>1.000000</td>\n",
       "    </tr>\n",
       "    <tr>\n",
       "      <th>25%</th>\n",
       "      <td>0.262975</td>\n",
       "      <td>-0.024863</td>\n",
       "      <td>-0.120993</td>\n",
       "      <td>-0.992754</td>\n",
       "      <td>-0.978129</td>\n",
       "      <td>-0.980233</td>\n",
       "      <td>-0.993591</td>\n",
       "      <td>-0.978162</td>\n",
       "      <td>-0.980251</td>\n",
       "      <td>-0.936219</td>\n",
       "      <td>...</td>\n",
       "      <td>-0.542602</td>\n",
       "      <td>-0.845573</td>\n",
       "      <td>-0.121527</td>\n",
       "      <td>-0.289549</td>\n",
       "      <td>-0.482273</td>\n",
       "      <td>-0.376341</td>\n",
       "      <td>-0.812065</td>\n",
       "      <td>-0.017885</td>\n",
       "      <td>-0.143414</td>\n",
       "      <td>8.000000</td>\n",
       "    </tr>\n",
       "    <tr>\n",
       "      <th>50%</th>\n",
       "      <td>0.277193</td>\n",
       "      <td>-0.017219</td>\n",
       "      <td>-0.108676</td>\n",
       "      <td>-0.946196</td>\n",
       "      <td>-0.851897</td>\n",
       "      <td>-0.859365</td>\n",
       "      <td>-0.950709</td>\n",
       "      <td>-0.857328</td>\n",
       "      <td>-0.857143</td>\n",
       "      <td>-0.881637</td>\n",
       "      <td>...</td>\n",
       "      <td>-0.343685</td>\n",
       "      <td>-0.711692</td>\n",
       "      <td>0.009509</td>\n",
       "      <td>0.008943</td>\n",
       "      <td>0.008735</td>\n",
       "      <td>-0.000368</td>\n",
       "      <td>-0.709417</td>\n",
       "      <td>0.182071</td>\n",
       "      <td>0.003181</td>\n",
       "      <td>19.000000</td>\n",
       "    </tr>\n",
       "    <tr>\n",
       "      <th>75%</th>\n",
       "      <td>0.288461</td>\n",
       "      <td>-0.010783</td>\n",
       "      <td>-0.097794</td>\n",
       "      <td>-0.242813</td>\n",
       "      <td>-0.034231</td>\n",
       "      <td>-0.262415</td>\n",
       "      <td>-0.292680</td>\n",
       "      <td>-0.066701</td>\n",
       "      <td>-0.265671</td>\n",
       "      <td>-0.017129</td>\n",
       "      <td>...</td>\n",
       "      <td>-0.126979</td>\n",
       "      <td>-0.503878</td>\n",
       "      <td>0.150865</td>\n",
       "      <td>0.292861</td>\n",
       "      <td>0.506187</td>\n",
       "      <td>0.359368</td>\n",
       "      <td>-0.509079</td>\n",
       "      <td>0.248353</td>\n",
       "      <td>0.107659</td>\n",
       "      <td>26.000000</td>\n",
       "    </tr>\n",
       "    <tr>\n",
       "      <th>max</th>\n",
       "      <td>1.000000</td>\n",
       "      <td>1.000000</td>\n",
       "      <td>1.000000</td>\n",
       "      <td>1.000000</td>\n",
       "      <td>0.916238</td>\n",
       "      <td>1.000000</td>\n",
       "      <td>1.000000</td>\n",
       "      <td>0.967664</td>\n",
       "      <td>1.000000</td>\n",
       "      <td>1.000000</td>\n",
       "      <td>...</td>\n",
       "      <td>0.989538</td>\n",
       "      <td>0.956845</td>\n",
       "      <td>1.000000</td>\n",
       "      <td>1.000000</td>\n",
       "      <td>0.998702</td>\n",
       "      <td>0.996078</td>\n",
       "      <td>1.000000</td>\n",
       "      <td>0.478157</td>\n",
       "      <td>1.000000</td>\n",
       "      <td>30.000000</td>\n",
       "    </tr>\n",
       "  </tbody>\n",
       "</table>\n",
       "<p>8 rows × 562 columns</p>\n",
       "</div>"
      ],
      "text/plain": [
       "       tBodyAcc-mean()-X  tBodyAcc-mean()-Y  tBodyAcc-mean()-Z  \\\n",
       "count        7352.000000        7352.000000        7352.000000   \n",
       "mean            0.274488          -0.017695          -0.109141   \n",
       "std             0.070261           0.040811           0.056635   \n",
       "min            -1.000000          -1.000000          -1.000000   \n",
       "25%             0.262975          -0.024863          -0.120993   \n",
       "50%             0.277193          -0.017219          -0.108676   \n",
       "75%             0.288461          -0.010783          -0.097794   \n",
       "max             1.000000           1.000000           1.000000   \n",
       "\n",
       "       tBodyAcc-std()-X  tBodyAcc-std()-Y  tBodyAcc-std()-Z  tBodyAcc-mad()-X  \\\n",
       "count       7352.000000       7352.000000       7352.000000       7352.000000   \n",
       "mean          -0.605438         -0.510938         -0.604754         -0.630512   \n",
       "std            0.448734          0.502645          0.418687          0.424073   \n",
       "min           -1.000000         -0.999873         -1.000000         -1.000000   \n",
       "25%           -0.992754         -0.978129         -0.980233         -0.993591   \n",
       "50%           -0.946196         -0.851897         -0.859365         -0.950709   \n",
       "75%           -0.242813         -0.034231         -0.262415         -0.292680   \n",
       "max            1.000000          0.916238          1.000000          1.000000   \n",
       "\n",
       "       tBodyAcc-mad()-Y  tBodyAcc-mad()-Z  tBodyAcc-max()-X  ...  \\\n",
       "count       7352.000000       7352.000000       7352.000000  ...   \n",
       "mean          -0.526907         -0.606150         -0.468604  ...   \n",
       "std            0.485942          0.414122          0.544547  ...   \n",
       "min           -1.000000         -1.000000         -1.000000  ...   \n",
       "25%           -0.978162         -0.980251         -0.936219  ...   \n",
       "50%           -0.857328         -0.857143         -0.881637  ...   \n",
       "75%           -0.066701         -0.265671         -0.017129  ...   \n",
       "max            0.967664          1.000000          1.000000  ...   \n",
       "\n",
       "       fBodyBodyGyroJerkMag-skewness()  fBodyBodyGyroJerkMag-kurtosis()  \\\n",
       "count                      7352.000000                      7352.000000   \n",
       "mean                         -0.307009                        -0.625294   \n",
       "std                           0.321011                         0.307584   \n",
       "min                          -0.995357                        -0.999765   \n",
       "25%                          -0.542602                        -0.845573   \n",
       "50%                          -0.343685                        -0.711692   \n",
       "75%                          -0.126979                        -0.503878   \n",
       "max                           0.989538                         0.956845   \n",
       "\n",
       "       angle(tBodyAccMean,gravity)  angle(tBodyAccJerkMean),gravityMean)  \\\n",
       "count                  7352.000000                           7352.000000   \n",
       "mean                      0.008684                              0.002186   \n",
       "std                       0.336787                              0.448306   \n",
       "min                      -0.976580                             -1.000000   \n",
       "25%                      -0.121527                             -0.289549   \n",
       "50%                       0.009509                              0.008943   \n",
       "75%                       0.150865                              0.292861   \n",
       "max                       1.000000                              1.000000   \n",
       "\n",
       "       angle(tBodyGyroMean,gravityMean)  angle(tBodyGyroJerkMean,gravityMean)  \\\n",
       "count                       7352.000000                           7352.000000   \n",
       "mean                           0.008726                             -0.005981   \n",
       "std                            0.608303                              0.477975   \n",
       "min                           -1.000000                             -1.000000   \n",
       "25%                           -0.482273                             -0.376341   \n",
       "50%                            0.008735                             -0.000368   \n",
       "75%                            0.506187                              0.359368   \n",
       "max                            0.998702                              0.996078   \n",
       "\n",
       "       angle(X,gravityMean)  angle(Y,gravityMean)  angle(Z,gravityMean)  \\\n",
       "count           7352.000000           7352.000000           7352.000000   \n",
       "mean              -0.489547              0.058593             -0.056515   \n",
       "std                0.511807              0.297480              0.279122   \n",
       "min               -1.000000             -1.000000             -1.000000   \n",
       "25%               -0.812065             -0.017885             -0.143414   \n",
       "50%               -0.709417              0.182071              0.003181   \n",
       "75%               -0.509079              0.248353              0.107659   \n",
       "max                1.000000              0.478157              1.000000   \n",
       "\n",
       "           subject  \n",
       "count  7352.000000  \n",
       "mean     17.413085  \n",
       "std       8.975143  \n",
       "min       1.000000  \n",
       "25%       8.000000  \n",
       "50%      19.000000  \n",
       "75%      26.000000  \n",
       "max      30.000000  \n",
       "\n",
       "[8 rows x 562 columns]"
      ]
     },
     "execution_count": 3,
     "metadata": {},
     "output_type": "execute_result"
    }
   ],
   "source": [
    "train_df.describe()"
   ]
  },
  {
   "cell_type": "code",
   "execution_count": 4,
   "id": "a917f1e7",
   "metadata": {
    "execution": {
     "iopub.execute_input": "2022-10-20T12:05:40.900363Z",
     "iopub.status.busy": "2022-10-20T12:05:40.899469Z",
     "iopub.status.idle": "2022-10-20T12:05:40.905811Z",
     "shell.execute_reply": "2022-10-20T12:05:40.905031Z"
    },
    "papermill": {
     "duration": 0.016464,
     "end_time": "2022-10-20T12:05:40.907702",
     "exception": false,
     "start_time": "2022-10-20T12:05:40.891238",
     "status": "completed"
    },
    "tags": []
   },
   "outputs": [
    {
     "data": {
      "text/plain": [
       "(7352, 563)"
      ]
     },
     "execution_count": 4,
     "metadata": {},
     "output_type": "execute_result"
    }
   ],
   "source": [
    "train_df.shape"
   ]
  },
  {
   "cell_type": "code",
   "execution_count": 5,
   "id": "512e2a0c",
   "metadata": {
    "execution": {
     "iopub.execute_input": "2022-10-20T12:05:40.922777Z",
     "iopub.status.busy": "2022-10-20T12:05:40.921851Z",
     "iopub.status.idle": "2022-10-20T12:05:40.930043Z",
     "shell.execute_reply": "2022-10-20T12:05:40.929117Z"
    },
    "papermill": {
     "duration": 0.0182,
     "end_time": "2022-10-20T12:05:40.932112",
     "exception": false,
     "start_time": "2022-10-20T12:05:40.913912",
     "status": "completed"
    },
    "tags": []
   },
   "outputs": [
    {
     "data": {
      "text/plain": [
       "Index(['tBodyAcc-mean()-X', 'tBodyAcc-mean()-Y', 'tBodyAcc-mean()-Z',\n",
       "       'tBodyAcc-std()-X', 'tBodyAcc-std()-Y', 'tBodyAcc-std()-Z',\n",
       "       'tBodyAcc-mad()-X', 'tBodyAcc-mad()-Y', 'tBodyAcc-mad()-Z',\n",
       "       'tBodyAcc-max()-X',\n",
       "       ...\n",
       "       'fBodyBodyGyroJerkMag-kurtosis()', 'angle(tBodyAccMean,gravity)',\n",
       "       'angle(tBodyAccJerkMean),gravityMean)',\n",
       "       'angle(tBodyGyroMean,gravityMean)',\n",
       "       'angle(tBodyGyroJerkMean,gravityMean)', 'angle(X,gravityMean)',\n",
       "       'angle(Y,gravityMean)', 'angle(Z,gravityMean)', 'subject', 'Activity'],\n",
       "      dtype='object', length=563)"
      ]
     },
     "execution_count": 5,
     "metadata": {},
     "output_type": "execute_result"
    }
   ],
   "source": [
    "train_df.columns"
   ]
  },
  {
   "cell_type": "code",
   "execution_count": 6,
   "id": "3577b468",
   "metadata": {
    "execution": {
     "iopub.execute_input": "2022-10-20T12:05:40.947877Z",
     "iopub.status.busy": "2022-10-20T12:05:40.946591Z",
     "iopub.status.idle": "2022-10-20T12:05:40.990145Z",
     "shell.execute_reply": "2022-10-20T12:05:40.988504Z"
    },
    "papermill": {
     "duration": 0.054458,
     "end_time": "2022-10-20T12:05:40.993039",
     "exception": false,
     "start_time": "2022-10-20T12:05:40.938581",
     "status": "completed"
    },
    "tags": []
   },
   "outputs": [],
   "source": [
    "X_train = train_df.drop('Activity', axis=1)\n",
    "y_train = train_df['Activity']\n",
    "\n",
    "X_test = test_df.drop('Activity', axis=1)\n",
    "y_test = test_df['Activity']"
   ]
  },
  {
   "cell_type": "code",
   "execution_count": 7,
   "id": "5f67eb46",
   "metadata": {
    "execution": {
     "iopub.execute_input": "2022-10-20T12:05:41.025309Z",
     "iopub.status.busy": "2022-10-20T12:05:41.023817Z",
     "iopub.status.idle": "2022-10-20T12:05:42.310189Z",
     "shell.execute_reply": "2022-10-20T12:05:42.308763Z"
    },
    "papermill": {
     "duration": 1.298238,
     "end_time": "2022-10-20T12:05:42.313364",
     "exception": false,
     "start_time": "2022-10-20T12:05:41.015126",
     "status": "completed"
    },
    "tags": []
   },
   "outputs": [],
   "source": [
    "from sklearn.ensemble import RandomForestClassifier, GradientBoostingClassifier\n",
    "from sklearn.linear_model import LogisticRegression\n",
    "from sklearn.tree import DecisionTreeClassifier\n",
    "from sklearn.svm import LinearSVC\n",
    "\n",
    "seed = 1\n",
    "forest = RandomForestClassifier(random_state=seed)\n",
    "linear = LogisticRegression(max_iter=2000, random_state=seed)\n",
    "tree = DecisionTreeClassifier(random_state=seed)\n",
    "svm = LinearSVC(max_iter=2500, random_state=seed)"
   ]
  },
  {
   "cell_type": "code",
   "execution_count": 8,
   "id": "712d25aa",
   "metadata": {
    "execution": {
     "iopub.execute_input": "2022-10-20T12:05:42.330063Z",
     "iopub.status.busy": "2022-10-20T12:05:42.329630Z",
     "iopub.status.idle": "2022-10-20T12:05:42.335481Z",
     "shell.execute_reply": "2022-10-20T12:05:42.334481Z"
    },
    "papermill": {
     "duration": 0.016626,
     "end_time": "2022-10-20T12:05:42.337732",
     "exception": false,
     "start_time": "2022-10-20T12:05:42.321106",
     "status": "completed"
    },
    "tags": []
   },
   "outputs": [],
   "source": [
    "models = [forest, linear, tree, svm]\n",
    "model_names = [\n",
    "    'Random Forests',\n",
    "    'Logistic Regression',\n",
    "    'Decision Tree',\n",
    "    'Support Vector Machine']"
   ]
  },
  {
   "cell_type": "code",
   "execution_count": 9,
   "id": "dd1e6aea",
   "metadata": {
    "execution": {
     "iopub.execute_input": "2022-10-20T12:05:42.353722Z",
     "iopub.status.busy": "2022-10-20T12:05:42.352983Z",
     "iopub.status.idle": "2022-10-20T12:05:42.358346Z",
     "shell.execute_reply": "2022-10-20T12:05:42.357492Z"
    },
    "papermill": {
     "duration": 0.015949,
     "end_time": "2022-10-20T12:05:42.360649",
     "exception": false,
     "start_time": "2022-10-20T12:05:42.344700",
     "status": "completed"
    },
    "tags": []
   },
   "outputs": [],
   "source": [
    "from sklearn.metrics import accuracy_score\n",
    "\n",
    "def get_accuracy(model, data):\n",
    "    X_train, X_test, y_train, y_test = data\n",
    "    model.fit(X_train, y_train)\n",
    "    y_pred = model.predict(X_test)\n",
    "    acc = accuracy_score(y_test, y_pred)\n",
    "    return acc"
   ]
  },
  {
   "cell_type": "code",
   "execution_count": 10,
   "id": "696a0cca",
   "metadata": {
    "execution": {
     "iopub.execute_input": "2022-10-20T12:05:42.378359Z",
     "iopub.status.busy": "2022-10-20T12:05:42.377674Z",
     "iopub.status.idle": "2022-10-20T12:07:04.791632Z",
     "shell.execute_reply": "2022-10-20T12:07:04.790267Z"
    },
    "papermill": {
     "duration": 82.435743,
     "end_time": "2022-10-20T12:07:04.803676",
     "exception": false,
     "start_time": "2022-10-20T12:05:42.367933",
     "status": "completed"
    },
    "tags": []
   },
   "outputs": [
    {
     "name": "stdout",
     "output_type": "stream",
     "text": [
      "Random Forests\n",
      "=========================\n",
      "Accuracy: 92.57%\n",
      "\n",
      "Logistic Regression\n",
      "=========================\n",
      "Accuracy: 95.96%\n",
      "\n",
      "Decision Tree\n",
      "=========================\n",
      "Accuracy: 86.12%\n",
      "\n",
      "Support Vector Machine\n",
      "=========================\n",
      "Accuracy: 96.47%\n",
      "\n"
     ]
    },
    {
     "name": "stderr",
     "output_type": "stream",
     "text": [
      "C:\\Users\\HP\\anaconda3\\lib\\site-packages\\sklearn\\svm\\_base.py:1206: ConvergenceWarning: Liblinear failed to converge, increase the number of iterations.\n",
      "  warnings.warn(\n"
     ]
    }
   ],
   "source": [
    "data = (X_train, X_test, y_train, y_test)\n",
    "for model, model_name in zip(models, model_names):\n",
    "    acc = get_accuracy(model, data)\n",
    "    print(model_name)\n",
    "    print('=========================')\n",
    "    print('Accuracy: %.2f%%'%(acc*100))\n",
    "    print()"
   ]
  },
  {
   "cell_type": "code",
   "execution_count": 11,
   "id": "3e51da01",
   "metadata": {
    "execution": {
     "iopub.execute_input": "2022-10-20T12:07:04.881362Z",
     "iopub.status.busy": "2022-10-20T12:07:04.880553Z",
     "iopub.status.idle": "2022-10-20T12:07:04.896765Z",
     "shell.execute_reply": "2022-10-20T12:07:04.895803Z"
    },
    "papermill": {
     "duration": 0.039513,
     "end_time": "2022-10-20T12:07:04.899323",
     "exception": false,
     "start_time": "2022-10-20T12:07:04.859810",
     "status": "completed"
    },
    "tags": []
   },
   "outputs": [],
   "source": [
    "from sklearn.preprocessing import LabelEncoder\n",
    "le = LabelEncoder()\n",
    "y_train_encoded = le.fit_transform(y_train)\n",
    "y_test_encoded = le.fit_transform(y_test)"
   ]
  },
  {
   "cell_type": "code",
   "execution_count": 12,
   "id": "73b9ba2b",
   "metadata": {
    "execution": {
     "iopub.execute_input": "2022-10-20T12:07:04.916658Z",
     "iopub.status.busy": "2022-10-20T12:07:04.915748Z",
     "iopub.status.idle": "2022-10-20T12:07:11.488532Z",
     "shell.execute_reply": "2022-10-20T12:07:11.486766Z"
    },
    "papermill": {
     "duration": 6.585234,
     "end_time": "2022-10-20T12:07:11.491857",
     "exception": false,
     "start_time": "2022-10-20T12:07:04.906623",
     "status": "completed"
    },
    "tags": []
   },
   "outputs": [],
   "source": [
    "import numpy as np\n",
    "from tensorflow.keras.utils import to_categorical\n",
    "X_train, X_test = np.array(X_train), np.array(X_test)\n",
    "y_train, y_test = to_categorical(y_train_encoded), to_categorical(y_test_encoded)"
   ]
  },
  {
   "cell_type": "code",
   "execution_count": 13,
   "id": "ea8a080f",
   "metadata": {
    "execution": {
     "iopub.execute_input": "2022-10-20T12:07:11.509283Z",
     "iopub.status.busy": "2022-10-20T12:07:11.508607Z",
     "iopub.status.idle": "2022-10-20T12:07:11.697598Z",
     "shell.execute_reply": "2022-10-20T12:07:11.695802Z"
    },
    "papermill": {
     "duration": 0.201151,
     "end_time": "2022-10-20T12:07:11.700940",
     "exception": false,
     "start_time": "2022-10-20T12:07:11.499789",
     "status": "completed"
    },
    "tags": []
   },
   "outputs": [],
   "source": [
    "from tensorflow.keras.layers import Dense, Dropout, BatchNormalization\n",
    "from tensorflow.keras.models import Sequential\n",
    "\n",
    "model = Sequential()\n",
    "model.add(BatchNormalization(input_shape=[X_train.shape[1]]))\n",
    "model.add(Dense(512, activation='relu'))\n",
    "model.add(Dropout(rate=0.1))\n",
    "model.add(Dense(512, activation='relu'))\n",
    "model.add(Dropout(rate=0.1))\n",
    "model.add(Dense(512, activation='relu'))\n",
    "model.add(Dense(6, activation='softmax'))"
   ]
  },
  {
   "cell_type": "code",
   "execution_count": 14,
   "id": "01f3839b",
   "metadata": {
    "execution": {
     "iopub.execute_input": "2022-10-20T12:07:11.718521Z",
     "iopub.status.busy": "2022-10-20T12:07:11.718019Z",
     "iopub.status.idle": "2022-10-20T12:07:11.734692Z",
     "shell.execute_reply": "2022-10-20T12:07:11.733051Z"
    },
    "papermill": {
     "duration": 0.029011,
     "end_time": "2022-10-20T12:07:11.737827",
     "exception": false,
     "start_time": "2022-10-20T12:07:11.708816",
     "status": "completed"
    },
    "tags": []
   },
   "outputs": [],
   "source": [
    "# compile model\n",
    "model.compile(loss='categorical_crossentropy',\n",
    "              optimizer='adam',\n",
    "              metrics=['accuracy'])"
   ]
  },
  {
   "cell_type": "code",
   "execution_count": 15,
   "id": "83c7761c",
   "metadata": {
    "execution": {
     "iopub.execute_input": "2022-10-20T12:07:11.755559Z",
     "iopub.status.busy": "2022-10-20T12:07:11.755061Z",
     "iopub.status.idle": "2022-10-20T12:07:11.762924Z",
     "shell.execute_reply": "2022-10-20T12:07:11.761579Z"
    },
    "papermill": {
     "duration": 0.020225,
     "end_time": "2022-10-20T12:07:11.765820",
     "exception": false,
     "start_time": "2022-10-20T12:07:11.745595",
     "status": "completed"
    },
    "tags": []
   },
   "outputs": [],
   "source": [
    "from tensorflow.keras.callbacks import EarlyStopping\n",
    "\n",
    "early_stopping = EarlyStopping(\n",
    "    min_delta=0.001,\n",
    "    patience=20,\n",
    "    restore_best_weights=True\n",
    ")"
   ]
  },
  {
   "cell_type": "code",
   "execution_count": 16,
   "id": "48ba8e08",
   "metadata": {
    "execution": {
     "iopub.execute_input": "2022-10-20T12:07:11.783108Z",
     "iopub.status.busy": "2022-10-20T12:07:11.782599Z",
     "iopub.status.idle": "2022-10-20T12:08:06.687220Z",
     "shell.execute_reply": "2022-10-20T12:08:06.685995Z"
    },
    "papermill": {
     "duration": 54.917131,
     "end_time": "2022-10-20T12:08:06.690400",
     "exception": false,
     "start_time": "2022-10-20T12:07:11.773269",
     "status": "completed"
    },
    "tags": []
   },
   "outputs": [
    {
     "name": "stdout",
     "output_type": "stream",
     "text": [
      "Epoch 1/100\n",
      "230/230 [==============================] - 4s 14ms/step - loss: 0.2991 - accuracy: 0.8833 - val_loss: 0.3160 - val_accuracy: 0.8792\n",
      "Epoch 2/100\n",
      "230/230 [==============================] - 3s 13ms/step - loss: 0.1577 - accuracy: 0.9410 - val_loss: 0.2033 - val_accuracy: 0.9240\n",
      "Epoch 3/100\n",
      "230/230 [==============================] - 3s 13ms/step - loss: 0.1125 - accuracy: 0.9591 - val_loss: 0.2098 - val_accuracy: 0.9308\n",
      "Epoch 4/100\n",
      "230/230 [==============================] - 3s 14ms/step - loss: 0.0918 - accuracy: 0.9663 - val_loss: 0.2151 - val_accuracy: 0.9359\n",
      "Epoch 5/100\n",
      "230/230 [==============================] - 3s 13ms/step - loss: 0.0941 - accuracy: 0.9619 - val_loss: 0.2298 - val_accuracy: 0.9348\n",
      "Epoch 6/100\n",
      "230/230 [==============================] - 3s 13ms/step - loss: 0.0708 - accuracy: 0.9731 - val_loss: 0.2272 - val_accuracy: 0.9467\n",
      "Epoch 7/100\n",
      "230/230 [==============================] - 3s 14ms/step - loss: 0.0671 - accuracy: 0.9771 - val_loss: 0.2433 - val_accuracy: 0.9403\n",
      "Epoch 8/100\n",
      "230/230 [==============================] - 3s 15ms/step - loss: 0.0759 - accuracy: 0.9754 - val_loss: 0.2597 - val_accuracy: 0.9247\n",
      "Epoch 9/100\n",
      "230/230 [==============================] - 3s 14ms/step - loss: 0.0627 - accuracy: 0.9773 - val_loss: 0.2641 - val_accuracy: 0.9332\n",
      "Epoch 10/100\n",
      "230/230 [==============================] - 3s 13ms/step - loss: 0.0539 - accuracy: 0.9803 - val_loss: 0.2426 - val_accuracy: 0.9491\n",
      "Epoch 11/100\n",
      "230/230 [==============================] - 3s 13ms/step - loss: 0.0556 - accuracy: 0.9799 - val_loss: 0.1869 - val_accuracy: 0.9488\n",
      "Epoch 12/100\n",
      "230/230 [==============================] - 3s 14ms/step - loss: 0.0626 - accuracy: 0.9785 - val_loss: 0.1797 - val_accuracy: 0.9437\n",
      "Epoch 13/100\n",
      "230/230 [==============================] - 3s 13ms/step - loss: 0.0465 - accuracy: 0.9831 - val_loss: 0.1858 - val_accuracy: 0.9593\n",
      "Epoch 14/100\n",
      "230/230 [==============================] - 3s 14ms/step - loss: 0.0399 - accuracy: 0.9854 - val_loss: 0.3345 - val_accuracy: 0.9328\n",
      "Epoch 15/100\n",
      "230/230 [==============================] - 3s 14ms/step - loss: 0.0646 - accuracy: 0.9807 - val_loss: 0.2824 - val_accuracy: 0.9403\n",
      "Epoch 16/100\n",
      "230/230 [==============================] - 3s 15ms/step - loss: 0.0357 - accuracy: 0.9868 - val_loss: 0.2297 - val_accuracy: 0.9522\n",
      "Epoch 17/100\n",
      "230/230 [==============================] - 3s 13ms/step - loss: 0.0561 - accuracy: 0.9831 - val_loss: 0.3104 - val_accuracy: 0.9325\n",
      "Epoch 18/100\n",
      "230/230 [==============================] - 4s 16ms/step - loss: 0.0367 - accuracy: 0.9888 - val_loss: 0.3888 - val_accuracy: 0.9243\n",
      "Epoch 19/100\n",
      "230/230 [==============================] - 3s 14ms/step - loss: 0.0346 - accuracy: 0.9893 - val_loss: 0.4020 - val_accuracy: 0.9253\n",
      "Epoch 20/100\n",
      "230/230 [==============================] - 3s 14ms/step - loss: 0.0312 - accuracy: 0.9901 - val_loss: 0.2813 - val_accuracy: 0.9501\n",
      "Epoch 21/100\n",
      "230/230 [==============================] - 3s 13ms/step - loss: 0.0354 - accuracy: 0.9883 - val_loss: 0.2605 - val_accuracy: 0.9464\n",
      "Epoch 22/100\n",
      "230/230 [==============================] - 3s 15ms/step - loss: 0.0326 - accuracy: 0.9901 - val_loss: 0.3075 - val_accuracy: 0.9471\n",
      "Epoch 23/100\n",
      "230/230 [==============================] - 3s 14ms/step - loss: 0.0305 - accuracy: 0.9901 - val_loss: 0.2417 - val_accuracy: 0.9511\n",
      "Epoch 24/100\n",
      "230/230 [==============================] - 3s 14ms/step - loss: 0.0213 - accuracy: 0.9928 - val_loss: 0.3178 - val_accuracy: 0.9481\n",
      "Epoch 25/100\n",
      "230/230 [==============================] - 3s 13ms/step - loss: 0.0242 - accuracy: 0.9928 - val_loss: 0.2388 - val_accuracy: 0.9586\n",
      "Epoch 26/100\n",
      "230/230 [==============================] - 3s 14ms/step - loss: 0.0316 - accuracy: 0.9927 - val_loss: 0.2789 - val_accuracy: 0.9433\n",
      "Epoch 27/100\n",
      "230/230 [==============================] - 3s 13ms/step - loss: 0.0388 - accuracy: 0.9869 - val_loss: 0.3587 - val_accuracy: 0.9474\n",
      "Epoch 28/100\n",
      "230/230 [==============================] - 3s 13ms/step - loss: 0.0209 - accuracy: 0.9939 - val_loss: 0.2942 - val_accuracy: 0.9481\n",
      "Epoch 29/100\n",
      "230/230 [==============================] - 3s 13ms/step - loss: 0.0210 - accuracy: 0.9922 - val_loss: 0.2712 - val_accuracy: 0.9535\n",
      "Epoch 30/100\n",
      "230/230 [==============================] - 3s 12ms/step - loss: 0.0172 - accuracy: 0.9944 - val_loss: 0.3927 - val_accuracy: 0.9498\n",
      "Epoch 31/100\n",
      "230/230 [==============================] - 3s 12ms/step - loss: 0.0246 - accuracy: 0.9940 - val_loss: 0.4048 - val_accuracy: 0.9399\n",
      "Epoch 32/100\n",
      "230/230 [==============================] - 3s 13ms/step - loss: 0.0254 - accuracy: 0.9939 - val_loss: 0.3527 - val_accuracy: 0.9328\n"
     ]
    }
   ],
   "source": [
    "history = model.fit(X_train, y_train,\n",
    "                    validation_data=(X_test, y_test),\n",
    "                    epochs=100,\n",
    "                   callbacks=[early_stopping])"
   ]
  },
  {
   "cell_type": "code",
   "execution_count": 17,
   "id": "3d28a889",
   "metadata": {
    "execution": {
     "iopub.execute_input": "2022-10-20T12:08:06.822638Z",
     "iopub.status.busy": "2022-10-20T12:08:06.822233Z",
     "iopub.status.idle": "2022-10-20T12:08:07.298969Z",
     "shell.execute_reply": "2022-10-20T12:08:07.297623Z"
    },
    "papermill": {
     "duration": 0.545657,
     "end_time": "2022-10-20T12:08:07.302287",
     "exception": false,
     "start_time": "2022-10-20T12:08:06.756630",
     "status": "completed"
    },
    "tags": []
   },
   "outputs": [
    {
     "name": "stdout",
     "output_type": "stream",
     "text": [
      "Best Validation Loss: 0.1797\n",
      "Best Validation Accuracy: 0.9593\n"
     ]
    },
    {
     "data": {
      "image/png": "[encoded data removed]",
      "text/plain": [
       "<Figure size 432x288 with 1 Axes>"
      ]
     },
     "metadata": {
      "needs_background": "light"
     },
     "output_type": "display_data"
    },
    {
     "data": {
      "image/png": "[encoded data removed]",
      "text/plain": [
       "<Figure size 432x288 with 1 Axes>"
      ]
     },
     "metadata": {
      "needs_background": "light"
     },
     "output_type": "display_data"
    }
   ],
   "source": [
    "history_df = pd.DataFrame(history.history)\n",
    "history_df.loc[5:, ['loss', 'val_loss']].plot()\n",
    "history_df.loc[5:, ['accuracy', 'val_accuracy']].plot()\n",
    "\n",
    "print((\"Best Validation Loss: {:0.4f}\" +\\\n",
    "      \"\\nBest Validation Accuracy: {:0.4f}\")\\\n",
    "      .format(history_df['val_loss'].min(), \n",
    "              history_df['val_accuracy'].max()))"
   ]
  }
 ],
 "metadata": {
  "kernelspec": {
   "display_name": "Python 3 (ipykernel)",
   "language": "python",
   "name": "python3"
  },
  "language_info": {
   "codemirror_mode": {
    "name": "ipython",
    "version": 3
   },
   "file_extension": ".py",
   "mimetype": "text/x-python",
   "name": "python",
   "nbconvert_exporter": "python",
   "pygments_lexer": "ipython3",
   "version": "3.9.12"
  },
  "papermill": {
   "default_parameters": {},
   "duration": 162.320404,
   "end_time": "2022-10-20T12:08:10.381856",
   "environment_variables": {},
   "exception": null,
   "input_path": "__notebook__.ipynb",
   "output_path": "__notebook__.ipynb",
   "parameters": {},
   "start_time": "2022-10-20T12:05:28.061452",
   "version": "2.3.4"
  }
 },
 "nbformat": 4,
 "nbformat_minor": 5
}
